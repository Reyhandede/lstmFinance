{
 "cells": [
  {
   "cell_type": "code",
   "execution_count": 242,
   "id": "fbcb8878",
   "metadata": {},
   "outputs": [],
   "source": [
    "import pandas as pd\n",
    "import numpy as np\n",
    "import matplotlib.pyplot as plt\n",
    "import tensorflow as tf\n",
    "from tensorflow.keras.layers import Dense,LSTM  # I use keras over Tensorflow 2, so I don't need extra Keras libraries.\n",
    "from tensorflow.keras.models import Sequential  # Tensorflow includes Keras libraries after 2nd version of Tensorflow\n",
    "from sklearn.preprocessing import MinMaxScaler  # If you have Tensorflow 1, please upgrade your library using:\n",
    "                                                # conda install tensorflow\n",
    "                                                # This command will upgrade your Tensorflow module to the latest version."
   ]
  },
  {
   "cell_type": "code",
   "execution_count": 243,
   "id": "a137b34f",
   "metadata": {},
   "outputs": [
    {
     "data": {
      "text/html": [
       "<div>\n",
       "<style scoped>\n",
       "    .dataframe tbody tr th:only-of-type {\n",
       "        vertical-align: middle;\n",
       "    }\n",
       "\n",
       "    .dataframe tbody tr th {\n",
       "        vertical-align: top;\n",
       "    }\n",
       "\n",
       "    .dataframe thead th {\n",
       "        text-align: right;\n",
       "    }\n",
       "</style>\n",
       "<table border=\"1\" class=\"dataframe\">\n",
       "  <thead>\n",
       "    <tr style=\"text-align: right;\">\n",
       "      <th></th>\n",
       "      <th>date</th>\n",
       "      <th>symbol</th>\n",
       "      <th>open</th>\n",
       "      <th>close</th>\n",
       "      <th>low</th>\n",
       "      <th>high</th>\n",
       "      <th>volume</th>\n",
       "    </tr>\n",
       "  </thead>\n",
       "  <tbody>\n",
       "    <tr>\n",
       "      <th>0</th>\n",
       "      <td>2016-01-05</td>\n",
       "      <td>WLTW</td>\n",
       "      <td>123.430000</td>\n",
       "      <td>125.839996</td>\n",
       "      <td>122.309998</td>\n",
       "      <td>126.250000</td>\n",
       "      <td>2163600.0</td>\n",
       "    </tr>\n",
       "    <tr>\n",
       "      <th>1</th>\n",
       "      <td>2016-01-06</td>\n",
       "      <td>WLTW</td>\n",
       "      <td>125.239998</td>\n",
       "      <td>119.980003</td>\n",
       "      <td>119.940002</td>\n",
       "      <td>125.540001</td>\n",
       "      <td>2386400.0</td>\n",
       "    </tr>\n",
       "    <tr>\n",
       "      <th>2</th>\n",
       "      <td>2016-01-07</td>\n",
       "      <td>WLTW</td>\n",
       "      <td>116.379997</td>\n",
       "      <td>114.949997</td>\n",
       "      <td>114.930000</td>\n",
       "      <td>119.739998</td>\n",
       "      <td>2489500.0</td>\n",
       "    </tr>\n",
       "    <tr>\n",
       "      <th>3</th>\n",
       "      <td>2016-01-08</td>\n",
       "      <td>WLTW</td>\n",
       "      <td>115.480003</td>\n",
       "      <td>116.620003</td>\n",
       "      <td>113.500000</td>\n",
       "      <td>117.440002</td>\n",
       "      <td>2006300.0</td>\n",
       "    </tr>\n",
       "    <tr>\n",
       "      <th>4</th>\n",
       "      <td>2016-01-11</td>\n",
       "      <td>WLTW</td>\n",
       "      <td>117.010002</td>\n",
       "      <td>114.970001</td>\n",
       "      <td>114.089996</td>\n",
       "      <td>117.330002</td>\n",
       "      <td>1408600.0</td>\n",
       "    </tr>\n",
       "  </tbody>\n",
       "</table>\n",
       "</div>"
      ],
      "text/plain": [
       "         date symbol        open       close         low        high  \\\n",
       "0  2016-01-05   WLTW  123.430000  125.839996  122.309998  126.250000   \n",
       "1  2016-01-06   WLTW  125.239998  119.980003  119.940002  125.540001   \n",
       "2  2016-01-07   WLTW  116.379997  114.949997  114.930000  119.739998   \n",
       "3  2016-01-08   WLTW  115.480003  116.620003  113.500000  117.440002   \n",
       "4  2016-01-11   WLTW  117.010002  114.970001  114.089996  117.330002   \n",
       "\n",
       "      volume  \n",
       "0  2163600.0  \n",
       "1  2386400.0  \n",
       "2  2489500.0  \n",
       "3  2006300.0  \n",
       "4  1408600.0  "
      ]
     },
     "execution_count": 243,
     "metadata": {},
     "output_type": "execute_result"
    }
   ],
   "source": [
    "df = pd.read_csv('prices-split-adjusted.csv')\n",
    "df.head()"
   ]
  },
  {
   "cell_type": "code",
   "execution_count": 244,
   "id": "6902e839",
   "metadata": {},
   "outputs": [
    {
     "data": {
      "text/plain": [
       "pandas.core.frame.DataFrame"
      ]
     },
     "execution_count": 244,
     "metadata": {},
     "output_type": "execute_result"
    }
   ],
   "source": [
    "type(df)\n"
   ]
  },
  {
   "cell_type": "code",
   "execution_count": 245,
   "id": "a35698b3",
   "metadata": {},
   "outputs": [
    {
     "data": {
      "text/plain": [
       "0"
      ]
     },
     "execution_count": 245,
     "metadata": {},
     "output_type": "execute_result"
    }
   ],
   "source": [
    "df.duplicated().sum()\n"
   ]
  },
  {
   "cell_type": "code",
   "execution_count": 246,
   "id": "93bbf99c",
   "metadata": {},
   "outputs": [
    {
     "data": {
      "text/plain": [
       "date      0\n",
       "symbol    0\n",
       "open      0\n",
       "close     0\n",
       "low       0\n",
       "high      0\n",
       "volume    0\n",
       "dtype: int64"
      ]
     },
     "execution_count": 246,
     "metadata": {},
     "output_type": "execute_result"
    }
   ],
   "source": [
    "df.isna().sum()"
   ]
  },
  {
   "cell_type": "code",
   "execution_count": 247,
   "id": "2922743c",
   "metadata": {},
   "outputs": [
    {
     "name": "stderr",
     "output_type": "stream",
     "text": [
      "<ipython-input-247-851c468ada32>:5: SettingWithCopyWarning: \n",
      "A value is trying to be set on a copy of a slice from a DataFrame\n",
      "\n",
      "See the caveats in the documentation: https://pandas.pydata.org/pandas-docs/stable/user_guide/indexing.html#returning-a-view-versus-a-copy\n",
      "  KSU_df.drop(['symbol'], axis=1, inplace=True)\n"
     ]
    }
   ],
   "source": [
    "# Scalling\n",
    "KSU_df= df[df['symbol'] == 'KSU']\n",
    "x_scaler = MinMaxScaler()\n",
    "y_scaler = MinMaxScaler()\n",
    "KSU_df.drop(['symbol'], axis=1, inplace=True)\n",
    "x = KSU_df[['open', 'low', 'high', 'volume']].copy()\n",
    "y = KSU_df['close'].copy()\n",
    "\n",
    "x[['open', 'low', 'high', 'volume']] = x_scaler.fit_transform(x)\n",
    "y = y_scaler.fit_transform(y.values.reshape(-1, 1))\n"
   ]
  },
  {
   "cell_type": "code",
   "execution_count": 248,
   "id": "551aaf73",
   "metadata": {},
   "outputs": [],
   "source": [
    "def get_data(data, steps):      \n",
    "    dataX = []\n",
    "    dataY = []\n",
    "    for i in range(len(data)-steps-1):\n",
    "        a = data[i:(i+steps), 0]\n",
    "        dataX.append(a)\n",
    "        dataY.append(data[i+steps, 0])\n",
    "    return np.array(dataX), np.array(dataY)"
   ]
  },
  {
   "cell_type": "code",
   "execution_count": 249,
   "id": "4374c4c4",
   "metadata": {},
   "outputs": [],
   "source": [
    "steps = 20\n"
   ]
  },
  {
   "cell_type": "code",
   "execution_count": 250,
   "id": "31048d35",
   "metadata": {},
   "outputs": [],
   "source": [
    "x['close'] = y\n",
    "train = x.iloc[0:1700,:].values\n",
    "test = x.iloc[1700:,:].values"
   ]
  },
  {
   "cell_type": "code",
   "execution_count": 252,
   "id": "e9b313e3",
   "metadata": {},
   "outputs": [],
   "source": [
    "X_train, y_train = get_data(train, steps)\n",
    "X_test, y_test = get_data(test, steps)"
   ]
  },
  {
   "cell_type": "code",
   "execution_count": 257,
   "id": "354be95c",
   "metadata": {},
   "outputs": [],
   "source": [
    "# Im reshaping my sets for using in LSTM model..\n",
    "X_train = np.reshape(X_train, (X_train.shape[0], 1, X_train.shape[1]))\n",
    "X_test = np.reshape(X_test, (X_test.shape[0], 1, X_test.shape[1]))"
   ]
  },
  {
   "cell_type": "code",
   "execution_count": 258,
   "id": "2b73f163",
   "metadata": {},
   "outputs": [],
   "source": [
    "# I will use a Sequential model with 2 hidden layers\n",
    "# Instead of neurons, LSTM networks have memory blocks that are connected through layers.\n",
    "# The default sigmoid activation function is used for the LSTM blocks. \n",
    "\n",
    "model = Sequential()\n",
    "model.add(LSTM(128, input_shape = (1, steps)))  # This is my first hidden layer with 128 memory blocks\n",
    "model.add(Dense(64))                                  # This is my second hidden layer with 64 memory blocks\n",
    "model.add(Dense(1))   # This is my output layer\n",
    "model.compile(loss = 'mean_squared_error', optimizer = 'adam')"
   ]
  },
  {
   "cell_type": "code",
   "execution_count": 259,
   "id": "0fbfac98",
   "metadata": {},
   "outputs": [
    {
     "name": "stdout",
     "output_type": "stream",
     "text": [
      "Model: \"sequential_5\"\n",
      "_________________________________________________________________\n",
      " Layer (type)                Output Shape              Param #   \n",
      "=================================================================\n",
      " lstm_5 (LSTM)               (None, 128)               76288     \n",
      "                                                                 \n",
      " dense_10 (Dense)            (None, 64)                8256      \n",
      "                                                                 \n",
      " dense_11 (Dense)            (None, 1)                 65        \n",
      "                                                                 \n",
      "=================================================================\n",
      "Total params: 84,609\n",
      "Trainable params: 84,609\n",
      "Non-trainable params: 0\n",
      "_________________________________________________________________\n"
     ]
    }
   ],
   "source": [
    "model.summary()"
   ]
  },
  {
   "cell_type": "code",
   "execution_count": 260,
   "id": "7cacaf8a",
   "metadata": {},
   "outputs": [
    {
     "name": "stdout",
     "output_type": "stream",
     "text": [
      "Epoch 1/25\n",
      "1679/1679 [==============================] - 5s 2ms/step - loss: 0.0026\n",
      "Epoch 2/25\n",
      "1679/1679 [==============================] - 4s 2ms/step - loss: 0.0014\n",
      "Epoch 3/25\n",
      "1679/1679 [==============================] - 4s 2ms/step - loss: 0.0011\n",
      "Epoch 4/25\n",
      "1679/1679 [==============================] - 4s 2ms/step - loss: 9.1447e-04\n",
      "Epoch 5/25\n",
      "1679/1679 [==============================] - 4s 2ms/step - loss: 8.5363e-04\n",
      "Epoch 6/25\n",
      "1679/1679 [==============================] - 4s 2ms/step - loss: 8.0218e-04\n",
      "Epoch 7/25\n",
      "1679/1679 [==============================] - 4s 2ms/step - loss: 8.1522e-04\n",
      "Epoch 8/25\n",
      "1679/1679 [==============================] - 4s 2ms/step - loss: 7.8030e-04\n",
      "Epoch 9/25\n",
      "1679/1679 [==============================] - 4s 2ms/step - loss: 7.5278e-04\n",
      "Epoch 10/25\n",
      "1679/1679 [==============================] - 4s 2ms/step - loss: 6.7795e-04\n",
      "Epoch 11/25\n",
      "1679/1679 [==============================] - 4s 2ms/step - loss: 6.7551e-04\n",
      "Epoch 12/25\n",
      "1679/1679 [==============================] - 4s 2ms/step - loss: 6.1136e-04\n",
      "Epoch 13/25\n",
      "1679/1679 [==============================] - 4s 2ms/step - loss: 6.3700e-04\n",
      "Epoch 14/25\n",
      "1679/1679 [==============================] - 4s 2ms/step - loss: 6.1935e-04\n",
      "Epoch 15/25\n",
      "1679/1679 [==============================] - 4s 2ms/step - loss: 6.0517e-04\n",
      "Epoch 16/25\n",
      "1679/1679 [==============================] - 4s 3ms/step - loss: 5.8957e-04\n",
      "Epoch 17/25\n",
      "1679/1679 [==============================] - 4s 2ms/step - loss: 5.7747e-04\n",
      "Epoch 18/25\n",
      "1679/1679 [==============================] - 4s 2ms/step - loss: 5.3060e-04\n",
      "Epoch 19/25\n",
      "1679/1679 [==============================] - 4s 2ms/step - loss: 6.2439e-04\n",
      "Epoch 20/25\n",
      "1679/1679 [==============================] - 4s 2ms/step - loss: 5.4475e-04\n",
      "Epoch 21/25\n",
      "1679/1679 [==============================] - 4s 2ms/step - loss: 5.0718e-04\n",
      "Epoch 22/25\n",
      "1679/1679 [==============================] - 4s 2ms/step - loss: 5.4338e-04\n",
      "Epoch 23/25\n",
      "1679/1679 [==============================] - 4s 2ms/step - loss: 5.9598e-04\n",
      "Epoch 24/25\n",
      "1679/1679 [==============================] - 4s 2ms/step - loss: 4.7852e-04\n",
      "Epoch 25/25\n",
      "1679/1679 [==============================] - 4s 2ms/step - loss: 5.3150e-04\n"
     ]
    },
    {
     "data": {
      "text/plain": [
       "<keras.callbacks.History at 0x16400276940>"
      ]
     },
     "execution_count": 260,
     "metadata": {},
     "output_type": "execute_result"
    }
   ],
   "source": [
    "model.fit(X_train, y_train, epochs=25, batch_size=1)"
   ]
  },
  {
   "cell_type": "markdown",
   "id": "d95e2366",
   "metadata": {},
   "source": [
    "### Let's make prediction.."
   ]
  },
  {
   "cell_type": "code",
   "execution_count": 261,
   "id": "bde23567",
   "metadata": {},
   "outputs": [
    {
     "name": "stdout",
     "output_type": "stream",
     "text": [
      "2/2 [==============================] - 1s 3ms/step\n"
     ]
    }
   ],
   "source": [
    "y_pred = model.predict(X_test)"
   ]
  },
  {
   "cell_type": "code",
   "execution_count": 263,
   "id": "b4a0787d",
   "metadata": {},
   "outputs": [],
   "source": [
    "y_scaler=MinMaxScaler()\n",
    "\n",
    "y_scaler.fit(y_pred)\n",
    "\n",
    "y_pred = y_scaler.inverse_transform(y_pred)\n",
    "y_test = y_test.reshape(-1, 1)\n",
    "y_test = y_scaler.inverse_transform(y_test)"
   ]
  },
  {
   "cell_type": "code",
   "execution_count": 264,
   "id": "08ae8e7e",
   "metadata": {},
   "outputs": [
    {
     "data": {
      "image/png": "[encoded data removed]",
      "text/plain": [
       "<Figure size 432x288 with 1 Axes>"
      ]
     },
     "metadata": {
      "needs_background": "light"
     },
     "output_type": "display_data"
    }
   ],
   "source": [
    "# plot real number of passengers and predictions...\n",
    "plt.plot(y_test, label = 'real number of passengers')\n",
    "plt.plot(y_pred, label = 'predicted number of passengers')\n",
    "plt.ylabel('Months')\n",
    "plt.ylabel('Number of passengers')\n",
    "plt.legend()\n",
    "plt.show()"
   ]
  }
 ],
 "metadata": {
  "kernelspec": {
   "display_name": "Python 3",
   "language": "python",
   "name": "python3"
  },
  "language_info": {
   "codemirror_mode": {
    "name": "ipython",
    "version": 3
   },
   "file_extension": ".py",
   "mimetype": "text/x-python",
   "name": "python",
   "nbconvert_exporter": "python",
   "pygments_lexer": "ipython3",
   "version": "3.9.4"
  }
 },
 "nbformat": 4,
 "nbformat_minor": 5
}
